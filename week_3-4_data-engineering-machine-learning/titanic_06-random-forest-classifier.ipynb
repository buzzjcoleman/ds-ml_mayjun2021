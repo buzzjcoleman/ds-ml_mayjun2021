{
 "metadata": {
  "language_info": {
   "codemirror_mode": {
    "name": "ipython",
    "version": 3
   },
   "file_extension": ".py",
   "mimetype": "text/x-python",
   "name": "python",
   "nbconvert_exporter": "python",
   "pygments_lexer": "ipython3",
   "version": "3.9.4"
  },
  "orig_nbformat": 2,
  "kernelspec": {
   "name": "python3",
   "display_name": "Python 3.9.4 64-bit",
   "metadata": {
    "interpreter": {
     "hash": "aee8b7b246df8f9039afb4144a1f6fd8d2ca17a180786b69acc140d282b71a49"
    }
   }
  }
 },
 "nbformat": 4,
 "nbformat_minor": 2,
 "cells": [
  {
   "source": [
    "# Titanic Notebook\n",
    "\n",
    "## Random Forest Classifier\n",
    "\n",
    "In this notebook, we will complete a Supervised Machine Learning project. "
   ],
   "cell_type": "markdown",
   "metadata": {}
  },
  {
   "cell_type": "code",
   "execution_count": 8,
   "metadata": {},
   "outputs": [],
   "source": [
    "# Import libraries\n",
    "import pandas as pd\n",
    "\n",
    "# Importing the machine learning model\n",
    "from sklearn.ensemble import RandomForestClassifier\n",
    "\n",
    "# Import GridSearchCV to find the model with the best parameters\n",
    "from sklearn.model_selection import GridSearchCV\n",
    "\n",
    "# Importing the the functions to measure metrics for the model\n",
    "from sklearn.metrics import accuracy_score, precision_score, recall_score"
   ]
  },
  {
   "cell_type": "code",
   "execution_count": 9,
   "metadata": {},
   "outputs": [],
   "source": [
    "# Import training, validation, and test data sets\n",
    "trainF = pd.read_csv('./train_features.csv')\n",
    "trainL = pd.read_csv('./train_labels.csv')\n",
    "\n",
    "valF = pd.read_csv('./validation_features.csv')\n",
    "valL = pd.read_csv('./validation_labels.csv')\n",
    "\n",
    "testF = pd.read_csv('./test_features.csv')\n",
    "testL = pd.read_csv('./test_labels.csv')"
   ]
  },
  {
   "source": [
    "### Tuning the Hyperparameters "
   ],
   "cell_type": "markdown",
   "metadata": {}
  },
  {
   "cell_type": "code",
   "execution_count": 18,
   "metadata": {},
   "outputs": [],
   "source": [
    "def printResults(results):\n",
    "    print('Best ML Params: {}\\n'.format(results.best_params_))\n",
    "\n",
    "    means = results.cv_results_['mean_test_score']\n",
    "    stnDvs = results.cv_results_['std_test_score']\n",
    "\n",
    "    for mean, stnDvs, params in zip(means, stnDvs, results.cv_results_['params']):\n",
    "        print('{} (+/-{}) for {}'.format(\n",
    "                round(mean, 3),\n",
    "                round(stnDvs*2, 3),\n",
    "                params\n",
    "            )\n",
    "        )\n"
   ]
  },
  {
   "cell_type": "code",
   "execution_count": 19,
   "metadata": {},
   "outputs": [
    {
     "output_type": "stream",
     "name": "stdout",
     "text": [
      "Best ML Params: {'max_depth': 10, 'n_estimators': 50}\n\n0.799 (+/-0.039) for {'max_depth': 2, 'n_estimators': 5}\n0.801 (+/-0.059) for {'max_depth': 2, 'n_estimators': 50}\n0.799 (+/-0.057) for {'max_depth': 2, 'n_estimators': 100}\n0.809 (+/-0.096) for {'max_depth': 10, 'n_estimators': 5}\n0.833 (+/-0.047) for {'max_depth': 10, 'n_estimators': 50}\n0.818 (+/-0.045) for {'max_depth': 10, 'n_estimators': 100}\n0.811 (+/-0.04) for {'max_depth': 20, 'n_estimators': 5}\n0.818 (+/-0.036) for {'max_depth': 20, 'n_estimators': 50}\n0.824 (+/-0.042) for {'max_depth': 20, 'n_estimators': 100}\n0.79 (+/-0.041) for {'max_depth': None, 'n_estimators': 5}\n0.822 (+/-0.034) for {'max_depth': None, 'n_estimators': 50}\n0.82 (+/-0.028) for {'max_depth': None, 'n_estimators': 100}\n"
     ]
    }
   ],
   "source": [
    "rfModel = RandomForestClassifier()\n",
    "\n",
    "# (Hyper)parameters according to Sckit Learn docs\n",
    "parameters = {\n",
    "    'n_estimators': [5, 50, 100],\n",
    "    'max_depth': [2, 10, 20, None]\n",
    "}\n",
    "\n",
    "gridSearch = GridSearchCV(rfModel, parameters, cv=5)\n",
    "gridSearch.fit(trainF, trainL.values.ravel())\n",
    "\n",
    "printResults(gridSearch)"
   ]
  },
  {
   "cell_type": "code",
   "execution_count": null,
   "metadata": {},
   "outputs": [],
   "source": []
  }
 ]
}