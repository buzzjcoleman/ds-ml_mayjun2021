{
 "metadata": {
  "language_info": {
   "codemirror_mode": {
    "name": "ipython",
    "version": 3
   },
   "file_extension": ".py",
   "mimetype": "text/x-python",
   "name": "python",
   "nbconvert_exporter": "python",
   "pygments_lexer": "ipython3",
   "version": "3.9.4"
  },
  "orig_nbformat": 2,
  "kernelspec": {
   "name": "python3",
   "display_name": "Python 3.9.4 64-bit",
   "metadata": {
    "interpreter": {
     "hash": "aee8b7b246df8f9039afb4144a1f6fd8d2ca17a180786b69acc140d282b71a49"
    }
   }
  }
 },
 "nbformat": 4,
 "nbformat_minor": 2,
 "cells": [
  {
   "source": [
    "# Titanic Notebook\n",
    "\n",
    "## Random Forest Classifier\n",
    "\n",
    "In this notebook, we will complete a Supervised Machine Learning project. "
   ],
   "cell_type": "markdown",
   "metadata": {}
  },
  {
   "cell_type": "code",
   "execution_count": 8,
   "metadata": {},
   "outputs": [],
   "source": [
    "# Import libraries\n",
    "import pandas as pd\n",
    "\n",
    "# Importing the machine learning model\n",
    "from sklearn.ensemble import RandomForestClassifier\n",
    "\n",
    "# Import GridSearchCV to find the model with the best parameters\n",
    "from sklearn.model_selection import GridSearchCV\n",
    "\n",
    "# Importing the the functions to measure metrics for the model\n",
    "from sklearn.metrics import accuracy_score, precision_score, recall_score"
   ]
  },
  {
   "cell_type": "code",
   "execution_count": 9,
   "metadata": {},
   "outputs": [],
   "source": [
    "# Import training, validation, and test data sets\n",
    "trainF = pd.read_csv('./train_features.csv')\n",
    "trainL = pd.read_csv('./train_labels.csv')\n",
    "\n",
    "valF = pd.read_csv('./validation_features.csv')\n",
    "valL = pd.read_csv('./validation_labels.csv')\n",
    "\n",
    "testF = pd.read_csv('./test_features.csv')\n",
    "testL = pd.read_csv('./test_labels.csv')"
   ]
  },
  {
   "source": [
    "### Tuning the Hyperparameters "
   ],
   "cell_type": "markdown",
   "metadata": {}
  },
  {
   "cell_type": "code",
   "execution_count": 18,
   "metadata": {},
   "outputs": [],
   "source": [
    "# We create this function to nicely format the\n",
    "# results of GridSearchCV\n",
    "def printResults(results):\n",
    "    print('Best ML Params: {}\\n'.format(results.best_params_))\n",
    "\n",
    "    means = results.cv_results_['mean_test_score']\n",
    "    stnDvs = results.cv_results_['std_test_score']\n",
    "\n",
    "    for mean, stnDvs, params in zip(means, stnDvs, results.cv_results_['params']):\n",
    "        print('{} (+/-{}) for {}'.format(\n",
    "                round(mean, 3),\n",
    "                round(stnDvs*2, 3),\n",
    "                params\n",
    "            )\n",
    "        )\n"
   ]
  },
  {
   "cell_type": "code",
   "execution_count": 19,
   "metadata": {},
   "outputs": [
    {
     "output_type": "stream",
     "name": "stdout",
     "text": [
      "Best ML Params: {'max_depth': 10, 'n_estimators': 50}\n\n0.799 (+/-0.039) for {'max_depth': 2, 'n_estimators': 5}\n0.801 (+/-0.059) for {'max_depth': 2, 'n_estimators': 50}\n0.799 (+/-0.057) for {'max_depth': 2, 'n_estimators': 100}\n0.809 (+/-0.096) for {'max_depth': 10, 'n_estimators': 5}\n0.833 (+/-0.047) for {'max_depth': 10, 'n_estimators': 50}\n0.818 (+/-0.045) for {'max_depth': 10, 'n_estimators': 100}\n0.811 (+/-0.04) for {'max_depth': 20, 'n_estimators': 5}\n0.818 (+/-0.036) for {'max_depth': 20, 'n_estimators': 50}\n0.824 (+/-0.042) for {'max_depth': 20, 'n_estimators': 100}\n0.79 (+/-0.041) for {'max_depth': None, 'n_estimators': 5}\n0.822 (+/-0.034) for {'max_depth': None, 'n_estimators': 50}\n0.82 (+/-0.028) for {'max_depth': None, 'n_estimators': 100}\n"
     ]
    }
   ],
   "source": [
    "rfModel = RandomForestClassifier()\n",
    "\n",
    "# (Hyper)parameters according to Sckit Learn docs\n",
    "parameters = {\n",
    "    'n_estimators': [5, 50, 100],\n",
    "    'max_depth': [2, 10, 20, None]\n",
    "}\n",
    "\n",
    "gridSearch = GridSearchCV(rfModel, parameters, cv=5)\n",
    "gridSearch.fit(trainF, trainL.values.ravel())\n",
    "\n",
    "# Note:\n",
    "# Accuracy is the result of precision and recall\n",
    "printResults(gridSearch)"
   ]
  },
  {
   "cell_type": "code",
   "execution_count": null,
   "metadata": {},
   "outputs": [],
   "source": [
    "# The top 3 best hyperparameters:\n",
    "\n",
    "# {'max_depth': 10, 'n_estimators': 50}\n",
    "# {'max_depth': None, 'n_estimators': 100}\n",
    "# {'max_depth': None, 'n_estimators': 50}"
   ]
  },
  {
   "cell_type": "code",
   "execution_count": 20,
   "metadata": {},
   "outputs": [
    {
     "output_type": "execute_result",
     "data": {
      "text/plain": [
       "RandomForestClassifier(n_estimators=50)"
      ]
     },
     "metadata": {},
     "execution_count": 20
    }
   ],
   "source": [
    "# Create 3 RandomForestClassifiers with the best hyperparameters\n",
    "rfModel1 = RandomForestClassifier(n_estimators=50, max_depth=10)\n",
    "rfModel1.fit(trainF, trainL.values.ravel())\n",
    "\n",
    "rfModel2 = RandomForestClassifier(n_estimators=100, max_depth=None)\n",
    "rfModel2.fit(trainF, trainL.values.ravel())\n",
    "\n",
    "rfModel3 = RandomForestClassifier(n_estimators=50, max_depth=None)\n",
    "rfModel3.fit(trainF, trainL.values.ravel())"
   ]
  },
  {
   "cell_type": "code",
   "execution_count": 21,
   "metadata": {},
   "outputs": [
    {
     "output_type": "stream",
     "name": "stdout",
     "text": [
      "Max depth: 10 and Estimators: 50 ---> Accuracy: 0.775, Precision: 0.754, Recall: 0.671\nMax depth: None and Estimators: 100 ---> Accuracy: 0.742, Precision: 0.696, Recall: 0.658\nMax depth: None and Estimators: 50 ---> Accuracy: 0.747, Precision: 0.706, Recall: 0.658\n"
     ]
    }
   ],
   "source": [
    "# Now look at the metric for validation data set\n",
    "for mlModel in [rfModel1, rfModel2, rfModel3]:\n",
    "\n",
    "    # Make each model predict the labels in the validations data set\n",
    "    predLabel = mlModel.predict(valF)\n",
    "\n",
    "    # In classificatio, your metrics are (1) accuracy, (2) precision, and (3) recall\n",
    "    accuracy = round(accuracy_score(valL, predLabel), 3)\n",
    "    precision = round(precision_score(valL, predLabel), 3)\n",
    "    recall = round(recall_score(valL, predLabel), 3)\n",
    "\n",
    "    print(\n",
    "        'Max depth: {} and Estimators: {} ---> Accuracy: {}, Precision: {}, Recall: {}'\n",
    "        .format(mlModel.max_depth, mlModel.n_estimators, accuracy, precision, recall)\n",
    "    )"
   ]
  },
  {
   "cell_type": "code",
   "execution_count": 22,
   "metadata": {},
   "outputs": [
    {
     "output_type": "stream",
     "name": "stdout",
     "text": [
      "Max depth: 10 and Estimators: 50 ---> Accuracy: 0.831, Precision: 0.791, Recall: 0.768\n"
     ]
    }
   ],
   "source": [
    "# Use the test data set with the best available model\n",
    "predLabel = rfModel1.predict(testF)\n",
    "\n",
    "accuracy = round(accuracy_score(testL, predLabel), 3)\n",
    "precision = round(precision_score(testL, predLabel), 3)\n",
    "recall = round(recall_score(testL, predLabel), 3)\n",
    "\n",
    "print(\n",
    "        'Max depth: {} and Estimators: {} ---> Accuracy: {}, Precision: {}, Recall: {}'\n",
    "        .format(rfModel1.max_depth, rfModel1.n_estimators, accuracy, precision, recall)\n",
    ")"
   ]
  },
  {
   "cell_type": "code",
   "execution_count": 23,
   "metadata": {},
   "outputs": [
    {
     "output_type": "execute_result",
     "data": {
      "text/plain": [
       "   Pclass  Sex        Age  SibSp  Parch     Fare  Embarked  Cabin_ind\n",
       "0       3    0  16.000000      4      1  39.6875       1.0          0\n",
       "1       3    1  29.642093      1      0  14.4542       3.0          0\n",
       "2       1    1  22.000000      0      1  55.0000       1.0          1\n",
       "3       3    0  28.000000      0      0   9.5000       1.0          0\n",
       "4       2    0  29.642093      0      0   0.0000       1.0          0"
      ],
      "text/html": "<div>\n<style scoped>\n    .dataframe tbody tr th:only-of-type {\n        vertical-align: middle;\n    }\n\n    .dataframe tbody tr th {\n        vertical-align: top;\n    }\n\n    .dataframe thead th {\n        text-align: right;\n    }\n</style>\n<table border=\"1\" class=\"dataframe\">\n  <thead>\n    <tr style=\"text-align: right;\">\n      <th></th>\n      <th>Pclass</th>\n      <th>Sex</th>\n      <th>Age</th>\n      <th>SibSp</th>\n      <th>Parch</th>\n      <th>Fare</th>\n      <th>Embarked</th>\n      <th>Cabin_ind</th>\n    </tr>\n  </thead>\n  <tbody>\n    <tr>\n      <th>0</th>\n      <td>3</td>\n      <td>0</td>\n      <td>16.000000</td>\n      <td>4</td>\n      <td>1</td>\n      <td>39.6875</td>\n      <td>1.0</td>\n      <td>0</td>\n    </tr>\n    <tr>\n      <th>1</th>\n      <td>3</td>\n      <td>1</td>\n      <td>29.642093</td>\n      <td>1</td>\n      <td>0</td>\n      <td>14.4542</td>\n      <td>3.0</td>\n      <td>0</td>\n    </tr>\n    <tr>\n      <th>2</th>\n      <td>1</td>\n      <td>1</td>\n      <td>22.000000</td>\n      <td>0</td>\n      <td>1</td>\n      <td>55.0000</td>\n      <td>1.0</td>\n      <td>1</td>\n    </tr>\n    <tr>\n      <th>3</th>\n      <td>3</td>\n      <td>0</td>\n      <td>28.000000</td>\n      <td>0</td>\n      <td>0</td>\n      <td>9.5000</td>\n      <td>1.0</td>\n      <td>0</td>\n    </tr>\n    <tr>\n      <th>4</th>\n      <td>2</td>\n      <td>0</td>\n      <td>29.642093</td>\n      <td>0</td>\n      <td>0</td>\n      <td>0.0000</td>\n      <td>1.0</td>\n      <td>0</td>\n    </tr>\n  </tbody>\n</table>\n</div>"
     },
     "metadata": {},
     "execution_count": 23
    }
   ],
   "source": [
    "testF.head()"
   ]
  },
  {
   "cell_type": "code",
   "execution_count": 24,
   "metadata": {},
   "outputs": [
    {
     "output_type": "execute_result",
     "data": {
      "text/plain": [
       "   Pclass  Sex        Age  SibSp  Parch     Fare  Embarked  Cabin_ind  \\\n",
       "0       3    0  16.000000      4      1  39.6875       1.0          0   \n",
       "1       3    1  29.642093      1      0  14.4542       3.0          0   \n",
       "2       1    1  22.000000      0      1  55.0000       1.0          1   \n",
       "3       3    0  28.000000      0      0   9.5000       1.0          0   \n",
       "4       2    0  29.642093      0      0   0.0000       1.0          0   \n",
       "\n",
       "   survived_predicted  \n",
       "0                   0  \n",
       "1                   0  \n",
       "2                   1  \n",
       "3                   0  \n",
       "4                   0  "
      ],
      "text/html": "<div>\n<style scoped>\n    .dataframe tbody tr th:only-of-type {\n        vertical-align: middle;\n    }\n\n    .dataframe tbody tr th {\n        vertical-align: top;\n    }\n\n    .dataframe thead th {\n        text-align: right;\n    }\n</style>\n<table border=\"1\" class=\"dataframe\">\n  <thead>\n    <tr style=\"text-align: right;\">\n      <th></th>\n      <th>Pclass</th>\n      <th>Sex</th>\n      <th>Age</th>\n      <th>SibSp</th>\n      <th>Parch</th>\n      <th>Fare</th>\n      <th>Embarked</th>\n      <th>Cabin_ind</th>\n      <th>survived_predicted</th>\n    </tr>\n  </thead>\n  <tbody>\n    <tr>\n      <th>0</th>\n      <td>3</td>\n      <td>0</td>\n      <td>16.000000</td>\n      <td>4</td>\n      <td>1</td>\n      <td>39.6875</td>\n      <td>1.0</td>\n      <td>0</td>\n      <td>0</td>\n    </tr>\n    <tr>\n      <th>1</th>\n      <td>3</td>\n      <td>1</td>\n      <td>29.642093</td>\n      <td>1</td>\n      <td>0</td>\n      <td>14.4542</td>\n      <td>3.0</td>\n      <td>0</td>\n      <td>0</td>\n    </tr>\n    <tr>\n      <th>2</th>\n      <td>1</td>\n      <td>1</td>\n      <td>22.000000</td>\n      <td>0</td>\n      <td>1</td>\n      <td>55.0000</td>\n      <td>1.0</td>\n      <td>1</td>\n      <td>1</td>\n    </tr>\n    <tr>\n      <th>3</th>\n      <td>3</td>\n      <td>0</td>\n      <td>28.000000</td>\n      <td>0</td>\n      <td>0</td>\n      <td>9.5000</td>\n      <td>1.0</td>\n      <td>0</td>\n      <td>0</td>\n    </tr>\n    <tr>\n      <th>4</th>\n      <td>2</td>\n      <td>0</td>\n      <td>29.642093</td>\n      <td>0</td>\n      <td>0</td>\n      <td>0.0000</td>\n      <td>1.0</td>\n      <td>0</td>\n      <td>0</td>\n    </tr>\n  </tbody>\n</table>\n</div>"
     },
     "metadata": {},
     "execution_count": 24
    }
   ],
   "source": [
    "# Append the predicted labels to the test data set and export.\n",
    "finalOutput = testF\n",
    "finalOutput['survived_predicted'] = predLabel\n",
    "finalOutput.head()"
   ]
  },
  {
   "cell_type": "code",
   "execution_count": 25,
   "metadata": {},
   "outputs": [],
   "source": [
    "finalOutput.to_csv('./titanic_predicted.csv', index=False)"
   ]
  },
  {
   "cell_type": "code",
   "execution_count": null,
   "metadata": {},
   "outputs": [],
   "source": []
  }
 ]
}