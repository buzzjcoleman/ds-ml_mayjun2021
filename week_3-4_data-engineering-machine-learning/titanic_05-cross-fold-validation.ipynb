{
 "metadata": {
  "language_info": {
   "codemirror_mode": {
    "name": "ipython",
    "version": 3
   },
   "file_extension": ".py",
   "mimetype": "text/x-python",
   "name": "python",
   "nbconvert_exporter": "python",
   "pygments_lexer": "ipython3",
   "version": "3.9.4"
  },
  "orig_nbformat": 2,
  "kernelspec": {
   "name": "python3",
   "display_name": "Python 3.9.4 64-bit",
   "metadata": {
    "interpreter": {
     "hash": "aee8b7b246df8f9039afb4144a1f6fd8d2ca17a180786b69acc140d282b71a49"
    }
   }
  }
 },
 "nbformat": 4,
 "nbformat_minor": 2,
 "cells": [
  {
   "source": [
    "# Titanic Notebook\n",
    "## Cross Validation Fit for Classification Model\n",
    "In this notebook, we are going to test the Random Forest Machine Learning model with the training the set"
   ],
   "cell_type": "markdown",
   "metadata": {}
  },
  {
   "cell_type": "code",
   "execution_count": 12,
   "metadata": {},
   "outputs": [],
   "source": [
    "# Import libraries\n",
    "import pandas as pd\n",
    "from sklearn.ensemble import RandomForestClassifier\n",
    "from sklearn.model_selection import cross_val_score\n",
    "\n",
    "import warnings\n",
    "warnings.filterwarnings(\"ignore\", category=FutureWarning)"
   ]
  },
  {
   "cell_type": "code",
   "execution_count": 13,
   "metadata": {},
   "outputs": [],
   "source": [
    "trainF = pd.read_csv('./train_features.csv')\n",
    "trainL = pd.read_csv('./train_labels.csv')"
   ]
  },
  {
   "cell_type": "code",
   "execution_count": 14,
   "metadata": {},
   "outputs": [
    {
     "output_type": "stream",
     "name": "stdout",
     "text": [
      "<class 'pandas.core.frame.DataFrame'>\nRangeIndex: 533 entries, 0 to 532\nData columns (total 8 columns):\n #   Column     Non-Null Count  Dtype  \n---  ------     --------------  -----  \n 0   Pclass     533 non-null    int64  \n 1   Sex        533 non-null    int64  \n 2   Age        533 non-null    float64\n 3   SibSp      533 non-null    int64  \n 4   Parch      533 non-null    int64  \n 5   Fare       533 non-null    float64\n 6   Embarked   533 non-null    float64\n 7   Cabin_ind  533 non-null    int64  \ndtypes: float64(3), int64(5)\nmemory usage: 33.4 KB\n"
     ]
    }
   ],
   "source": [
    "trainF.info()"
   ]
  },
  {
   "cell_type": "code",
   "execution_count": 16,
   "metadata": {},
   "outputs": [],
   "source": [
    "# Instantiate an object from the class RandomForestClassifier\n",
    "rfModel = RandomForestClassifier()\n",
    "\n",
    "# Perform a prelimenary test with the model\n",
    "# .ravel() will convert DataFrame to Python List\n",
    "# cross_val_score() function will resample the data 5 times\n",
    "# to see how the model performs.\n",
    "scores = cross_val_score(rfModel, trainF, trainL.values.ravel(), cv=5)"
   ]
  },
  {
   "cell_type": "code",
   "execution_count": 17,
   "metadata": {},
   "outputs": [
    {
     "output_type": "stream",
     "name": "stdout",
     "text": [
      "[0.8411215  0.82242991 0.82242991 0.83018868 0.82075472]\n"
     ]
    }
   ],
   "source": [
    "print(scores)"
   ]
  },
  {
   "cell_type": "code",
   "execution_count": null,
   "metadata": {},
   "outputs": [],
   "source": []
  }
 ]
}