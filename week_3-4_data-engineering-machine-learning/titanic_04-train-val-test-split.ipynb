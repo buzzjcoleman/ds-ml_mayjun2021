{
 "metadata": {
  "language_info": {
   "codemirror_mode": {
    "name": "ipython",
    "version": 3
   },
   "file_extension": ".py",
   "mimetype": "text/x-python",
   "name": "python",
   "nbconvert_exporter": "python",
   "pygments_lexer": "ipython3",
   "version": "3.9.4"
  },
  "orig_nbformat": 2,
  "kernelspec": {
   "name": "python3",
   "display_name": "Python 3.9.4 64-bit",
   "metadata": {
    "interpreter": {
     "hash": "aee8b7b246df8f9039afb4144a1f6fd8d2ca17a180786b69acc140d282b71a49"
    }
   }
  }
 },
 "nbformat": 4,
 "nbformat_minor": 2,
 "cells": [
  {
   "source": [
    "# Titanic Notebook\n",
    "## Data Preparation\n",
    "\n",
    "In this notebook, we split our file into three: (1) Train, (2) Validation, and (3) Test"
   ],
   "cell_type": "markdown",
   "metadata": {}
  },
  {
   "cell_type": "code",
   "execution_count": 4,
   "metadata": {},
   "outputs": [],
   "source": [
    "# Import libraries\n",
    "import pandas as pd\n",
    "# The train_test_split method will allow to split files and \n",
    "# randomly sample from the whole data\n",
    "from sklearn.model_selection import train_test_split"
   ]
  },
  {
   "cell_type": "code",
   "execution_count": 5,
   "metadata": {},
   "outputs": [
    {
     "output_type": "execute_result",
     "data": {
      "text/plain": [
       "   Survived  Pclass  Sex   Age  SibSp  Parch     Fare Embarked  Cabin_ind\n",
       "0         0       3    0  22.0      1      0   7.2500        S          0\n",
       "1         1       1    1  38.0      1      0  71.2833        C          1\n",
       "2         1       3    1  26.0      0      0   7.9250        S          0\n",
       "3         1       1    1  35.0      1      0  53.1000        S          1\n",
       "4         0       3    0  35.0      0      0   8.0500        S          0"
      ],
      "text/html": "<div>\n<style scoped>\n    .dataframe tbody tr th:only-of-type {\n        vertical-align: middle;\n    }\n\n    .dataframe tbody tr th {\n        vertical-align: top;\n    }\n\n    .dataframe thead th {\n        text-align: right;\n    }\n</style>\n<table border=\"1\" class=\"dataframe\">\n  <thead>\n    <tr style=\"text-align: right;\">\n      <th></th>\n      <th>Survived</th>\n      <th>Pclass</th>\n      <th>Sex</th>\n      <th>Age</th>\n      <th>SibSp</th>\n      <th>Parch</th>\n      <th>Fare</th>\n      <th>Embarked</th>\n      <th>Cabin_ind</th>\n    </tr>\n  </thead>\n  <tbody>\n    <tr>\n      <th>0</th>\n      <td>0</td>\n      <td>3</td>\n      <td>0</td>\n      <td>22.0</td>\n      <td>1</td>\n      <td>0</td>\n      <td>7.2500</td>\n      <td>S</td>\n      <td>0</td>\n    </tr>\n    <tr>\n      <th>1</th>\n      <td>1</td>\n      <td>1</td>\n      <td>1</td>\n      <td>38.0</td>\n      <td>1</td>\n      <td>0</td>\n      <td>71.2833</td>\n      <td>C</td>\n      <td>1</td>\n    </tr>\n    <tr>\n      <th>2</th>\n      <td>1</td>\n      <td>3</td>\n      <td>1</td>\n      <td>26.0</td>\n      <td>0</td>\n      <td>0</td>\n      <td>7.9250</td>\n      <td>S</td>\n      <td>0</td>\n    </tr>\n    <tr>\n      <th>3</th>\n      <td>1</td>\n      <td>1</td>\n      <td>1</td>\n      <td>35.0</td>\n      <td>1</td>\n      <td>0</td>\n      <td>53.1000</td>\n      <td>S</td>\n      <td>1</td>\n    </tr>\n    <tr>\n      <th>4</th>\n      <td>0</td>\n      <td>3</td>\n      <td>0</td>\n      <td>35.0</td>\n      <td>0</td>\n      <td>0</td>\n      <td>8.0500</td>\n      <td>S</td>\n      <td>0</td>\n    </tr>\n  </tbody>\n</table>\n</div>"
     },
     "metadata": {},
     "execution_count": 5
    }
   ],
   "source": [
    "# Import the data\n",
    "titanicDf = pd.read_csv('./titanic_cleaned.csv')\n",
    "titanicDf.head()"
   ]
  },
  {
   "cell_type": "code",
   "execution_count": 7,
   "metadata": {},
   "outputs": [],
   "source": [
    "# Create two independent data frames one for (1) features one for (2) label\n",
    "label = titanicDf['Survived']\n",
    "features = titanicDf.drop('Survived', axis=1)"
   ]
  },
  {
   "cell_type": "code",
   "execution_count": 10,
   "metadata": {},
   "outputs": [],
   "source": [
    "# In this cell, we are going to create three data sets. However, the train_test_split function\n",
    "# can only create two splits at a time. Therefore, we will create train and test once. Then, \n",
    "# we will take test and divide into two – once for test and for validation.\n",
    "\n",
    "# Do train/val/test with 60/20/20    \n",
    "# The first time, we will get 60/40 for train and test, respectively\n",
    "trainF, testF, trainL, testL = train_test_split(features, label, test_size=0.4, random_state=42)\n",
    "\n",
    "# Next, we divide test into two data sets: (1) for validation and (2) test\n",
    "testF, valF, testL, valL = train_test_split(testF, testL, test_size=0.5, random_state=42)"
   ]
  },
  {
   "cell_type": "code",
   "execution_count": 11,
   "metadata": {},
   "outputs": [
    {
     "output_type": "stream",
     "name": "stdout",
     "text": [
      "0.6\n0.2\n0.2\n"
     ]
    }
   ],
   "source": [
    "# Check the ratio of the train, validation, and test datasets\n",
    "for dataset in [trainF, valF, testF]:\n",
    "    ratio = round(len(dataset) / len(features), 2)\n",
    "    print(ratio)"
   ]
  },
  {
   "cell_type": "code",
   "execution_count": 12,
   "metadata": {},
   "outputs": [],
   "source": [
    "# Export the features and labels for the train/val/test data sets.dataset\n",
    "trainF.to_csv('./train_features.csv', index=False)\n",
    "valF.to_csv('./validation_features.csv', index=False)\n",
    "testF.to_csv('./test_features.csv', index=False)\n",
    "\n",
    "trainL.to_csv('./train_labels.csv', index=False)\n",
    "valL.to_csv('./validation_labels.csv', index=False)\n",
    "testL.to_csv('./test_labels.csv', index=False)"
   ]
  },
  {
   "cell_type": "code",
   "execution_count": null,
   "metadata": {},
   "outputs": [],
   "source": []
  }
 ]
}